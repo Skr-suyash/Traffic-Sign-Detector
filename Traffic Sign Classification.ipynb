{
 "cells": [
  {
   "cell_type": "code",
   "execution_count": 1,
   "metadata": {},
   "outputs": [],
   "source": [
    "import tensorflow as tf\n",
    "from tensorflow import keras\n",
    "import matplotlib.pyplot as plt\n",
    "import pandas as pd\n",
    "from PIL import Image\n",
    "import os\n",
    "import numpy as np"
   ]
  },
  {
   "cell_type": "code",
   "execution_count": 61,
   "metadata": {},
   "outputs": [],
   "source": [
    "data = []\n",
    "labels = []\n",
    "classes = 43\n",
    "cwd = 'G:\\\\Deep Learning\\\\Traffic Sign Detection'\n",
    "for i in range(classes):\n",
    "    path = os.path.join(cwd, 'train', str(i))\n",
    "    images = os.listdir(path)\n",
    "    for img in images:\n",
    "        try:\n",
    "            image = Image.open(path + \"\\\\\" + img)\n",
    "            image = image.resize((30,30))\n",
    "            image = np.array(image)\n",
    "            data.append(image)\n",
    "            labels.append(i)\n",
    "        except:\n",
    "            print('Error loading image.')\n",
    "data = np.array(data)\n",
    "labels = np.array(labels)"
   ]
  },
  {
   "cell_type": "code",
   "execution_count": 62,
   "metadata": {},
   "outputs": [
    {
     "name": "stdout",
     "output_type": "stream",
     "text": [
      "39209\n",
      "39209\n",
      "Train data shape: (39209, 30, 30, 3)  Labels shape: (39209,)\n"
     ]
    }
   ],
   "source": [
    "print(len(data))\n",
    "print(len(labels))\n",
    "print('Train data shape: {}  Labels shape: {}'.format(data.shape, labels.shape))"
   ]
  },
  {
   "cell_type": "code",
   "execution_count": 63,
   "metadata": {},
   "outputs": [
    {
     "name": "stdout",
     "output_type": "stream",
     "text": [
      "X_train (31367, 30, 30, 3),   y_train (31367,)\n",
      "X_test (7842, 30, 30, 3),  y_test (7842,)\n"
     ]
    }
   ],
   "source": [
    "from sklearn.model_selection import train_test_split\n",
    "X_train, X_test, y_train, y_test = train_test_split(data, labels, test_size=0.2, random_state=42)\n",
    "    \n",
    "print('X_train {},   y_train {}'.format(X_train.shape, y_train.shape))\n",
    "print('X_test {},  y_test {}'.format(X_test.shape, y_test.shape))"
   ]
  },
  {
   "cell_type": "code",
   "execution_count": 64,
   "metadata": {},
   "outputs": [],
   "source": [
    "y_train = tf.keras.utils.to_categorical(y_train, 43)\n",
    "y_test = tf.keras.utils.to_categorical(y_test, 43)"
   ]
  },
  {
   "cell_type": "code",
   "execution_count": 65,
   "metadata": {},
   "outputs": [
    {
     "data": {
      "text/plain": [
       "(30, 30, 3)"
      ]
     },
     "execution_count": 65,
     "metadata": {},
     "output_type": "execute_result"
    }
   ],
   "source": [
    "X_train.shape[1:]"
   ]
  },
  {
   "cell_type": "markdown",
   "metadata": {},
   "source": [
    "### Building the Model"
   ]
  },
  {
   "cell_type": "code",
   "execution_count": 66,
   "metadata": {},
   "outputs": [],
   "source": [
    "model = tf.keras.Sequential()\n",
    "model.add(tf.keras.layers.Conv2D(32, kernel_size=(5,5), activation='relu', input_shape= X_train.shape[1:]))\n",
    "model.add(tf.keras.layers.Conv2D(32, kernel_size=(5,5), activation='relu'))\n",
    "model.add(tf.keras.layers.MaxPooling2D(pool_size=(2,2)))\n",
    "model.add(tf.keras.layers.Dropout(0.25))\n",
    "model.add(tf.keras.layers.Conv2D(64, kernel_size=(3,3), activation='relu'))\n",
    "model.add(tf.keras.layers.Conv2D(64, kernel_size=(3,3), activation='relu'))\n",
    "model.add(tf.keras.layers.MaxPooling2D(pool_size=(2,2)))\n",
    "model.add(tf.keras.layers.Dropout(0.25))\n",
    "model.add(tf.keras.layers.Flatten())\n",
    "model.add(tf.keras.layers.Dense(256, activation='relu'))\n",
    "model.add(tf.keras.layers.Dropout(0.50))\n",
    "model.add(tf.keras.layers.Dense(43, activation='softmax'))"
   ]
  },
  {
   "cell_type": "code",
   "execution_count": 67,
   "metadata": {},
   "outputs": [],
   "source": [
    "model.compile(loss='categorical_crossentropy', optimizer='adam', metrics=['accuracy'])"
   ]
  },
  {
   "cell_type": "code",
   "execution_count": 68,
   "metadata": {},
   "outputs": [],
   "source": [
    "EPOCHS = 15\n",
    "BATCH_SIZE = 64"
   ]
  },
  {
   "cell_type": "code",
   "execution_count": 69,
   "metadata": {},
   "outputs": [
    {
     "name": "stdout",
     "output_type": "stream",
     "text": [
      "Train on 31367 samples, validate on 7842 samples\n",
      "Epoch 1/15\n",
      "31367/31367 [==============================] - 148s 5ms/sample - loss: 2.2202 - accuracy: 0.4627 - val_loss: 0.5813 - val_accuracy: 0.8416\n",
      "Epoch 2/15\n",
      "31367/31367 [==============================] - 140s 4ms/sample - loss: 0.6983 - accuracy: 0.7983 - val_loss: 0.2376 - val_accuracy: 0.9308\n",
      "Epoch 3/15\n",
      "31367/31367 [==============================] - 145s 5ms/sample - loss: 0.4353 - accuracy: 0.8752 - val_loss: 0.1523 - val_accuracy: 0.9551\n",
      "Epoch 4/15\n",
      "31367/31367 [==============================] - 142s 5ms/sample - loss: 0.3237 - accuracy: 0.9043 - val_loss: 0.1122 - val_accuracy: 0.9684\n",
      "Epoch 5/15\n",
      "31367/31367 [==============================] - 142s 5ms/sample - loss: 0.2858 - accuracy: 0.9175 - val_loss: 0.0870 - val_accuracy: 0.9739\n",
      "Epoch 6/15\n",
      "31367/31367 [==============================] - 141s 4ms/sample - loss: 0.2450 - accuracy: 0.9307 - val_loss: 0.0784 - val_accuracy: 0.9753\n",
      "Epoch 7/15\n",
      "31367/31367 [==============================] - 142s 5ms/sample - loss: 0.2256 - accuracy: 0.9345 - val_loss: 0.0716 - val_accuracy: 0.9776\n",
      "Epoch 8/15\n",
      "31367/31367 [==============================] - 143s 5ms/sample - loss: 0.2207 - accuracy: 0.9375 - val_loss: 0.0806 - val_accuracy: 0.9756\n",
      "Epoch 9/15\n",
      "31367/31367 [==============================] - 143s 5ms/sample - loss: 0.1986 - accuracy: 0.9428 - val_loss: 0.0563 - val_accuracy: 0.9828\n",
      "Epoch 10/15\n",
      "31367/31367 [==============================] - 142s 5ms/sample - loss: 0.1914 - accuracy: 0.9458 - val_loss: 0.0604 - val_accuracy: 0.9819\n",
      "Epoch 11/15\n",
      "31367/31367 [==============================] - 142s 5ms/sample - loss: 0.2047 - accuracy: 0.9425 - val_loss: 0.0567 - val_accuracy: 0.9832\n",
      "Epoch 12/15\n",
      "31367/31367 [==============================] - 142s 5ms/sample - loss: 0.1765 - accuracy: 0.9497 - val_loss: 0.0674 - val_accuracy: 0.9807\n",
      "Epoch 13/15\n",
      "31367/31367 [==============================] - 141s 5ms/sample - loss: 0.1914 - accuracy: 0.9464 - val_loss: 0.0500 - val_accuracy: 0.9852\n",
      "Epoch 14/15\n",
      "31367/31367 [==============================] - 142s 5ms/sample - loss: 0.1622 - accuracy: 0.9561 - val_loss: 0.0557 - val_accuracy: 0.9839\n",
      "Epoch 15/15\n",
      "31367/31367 [==============================] - 144s 5ms/sample - loss: 0.1861 - accuracy: 0.9483 - val_loss: 0.0494 - val_accuracy: 0.9850\n"
     ]
    },
    {
     "data": {
      "text/plain": [
       "<tensorflow.python.keras.callbacks.History at 0x2478decc860>"
      ]
     },
     "execution_count": 69,
     "metadata": {},
     "output_type": "execute_result"
    }
   ],
   "source": [
    "model.fit(X_train, y_train, epochs=EPOCHS, batch_size=BATCH_SIZE, validation_data=(X_test, y_test))"
   ]
  },
  {
   "cell_type": "code",
   "execution_count": 70,
   "metadata": {},
   "outputs": [
    {
     "name": "stdout",
     "output_type": "stream",
     "text": [
      "7842/7842 [==============================] - 10s 1ms/sample - loss: 0.0494 - accuracy: 0.9850\n"
     ]
    },
    {
     "data": {
      "text/plain": [
       "[0.049435986130507495, 0.9849528]"
      ]
     },
     "execution_count": 70,
     "metadata": {},
     "output_type": "execute_result"
    }
   ],
   "source": [
    "model.evaluate(X_test, y_test)"
   ]
  },
  {
   "cell_type": "code",
   "execution_count": 77,
   "metadata": {},
   "outputs": [],
   "source": [
    "model.save('model.h5')"
   ]
  },
  {
   "cell_type": "code",
   "execution_count": 78,
   "metadata": {},
   "outputs": [
    {
     "name": "stdout",
     "output_type": "stream",
     "text": [
      "0.9533650039588282\n"
     ]
    }
   ],
   "source": [
    "y_test = pd.read_csv('Test.csv')\n",
    "labels = y_test[\"ClassId\"].values\n",
    "imgs = y_test[\"Path\"].values\n",
    "data=[]\n",
    "for img in imgs:\n",
    "    image = Image.open(img)\n",
    "    image = image.resize((30,30))\n",
    "    data.append(np.array(image))\n",
    "X_test=np.array(data)\n",
    "pred = model.predict_classes(X_test)\n",
    "#Accuracy with the test data\n",
    "from sklearn.metrics import accuracy_score\n",
    "print(accuracy_score(labels, pred))"
   ]
  },
  {
   "cell_type": "code",
   "execution_count": 79,
   "metadata": {},
   "outputs": [],
   "source": [
    "model.save('traffic_signal_classifier.h5')"
   ]
  },
  {
   "cell_type": "code",
   "execution_count": null,
   "metadata": {},
   "outputs": [],
   "source": []
  }
 ],
 "metadata": {
  "kernelspec": {
   "display_name": "Python 3",
   "language": "python",
   "name": "python3"
  },
  "language_info": {
   "codemirror_mode": {
    "name": "ipython",
    "version": 3
   },
   "file_extension": ".py",
   "mimetype": "text/x-python",
   "name": "python",
   "nbconvert_exporter": "python",
   "pygments_lexer": "ipython3",
   "version": "3.7.3"
  }
 },
 "nbformat": 4,
 "nbformat_minor": 2
}
